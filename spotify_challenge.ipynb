{
  "nbformat": 4,
  "nbformat_minor": 0,
  "metadata": {
    "colab": {
      "name": "Untitled22.ipynb",
      "provenance": [],
      "collapsed_sections": []
    },
    "kernelspec": {
      "name": "python3",
      "display_name": "Python 3"
    }
  },
  "cells": [
    {
      "cell_type": "code",
      "metadata": {
        "id": "DJKanMUSxI-B",
        "colab_type": "code",
        "colab": {
          "base_uri": "https://localhost:8080/",
          "height": 138
        },
        "outputId": "045d26ab-d7d6-4bd4-a279-7ac4433c3d4a"
      },
      "source": [
        "%cd /content/Spotify-Challenge\n",
        "from google.colab import drive\n",
        "drive.mount('/content/drive')"
      ],
      "execution_count": 14,
      "outputs": [
        {
          "output_type": "stream",
          "text": [
            "/content/Spotify-Challenge\n",
            "Go to this URL in a browser: https://accounts.google.com/o/oauth2/auth?client_id=947318989803-6bn6qk8qdgf4n4g3pfee6491hc0brc4i.apps.googleusercontent.com&redirect_uri=urn%3aietf%3awg%3aoauth%3a2.0%3aoob&response_type=code&scope=email%20https%3a%2f%2fwww.googleapis.com%2fauth%2fdocs.test%20https%3a%2f%2fwww.googleapis.com%2fauth%2fdrive%20https%3a%2f%2fwww.googleapis.com%2fauth%2fdrive.photos.readonly%20https%3a%2f%2fwww.googleapis.com%2fauth%2fpeopleapi.readonly\n",
            "\n",
            "Enter your authorization code:\n",
            "··········\n",
            "Mounted at /content/drive\n"
          ],
          "name": "stdout"
        }
      ]
    },
    {
      "cell_type": "code",
      "metadata": {
        "id": "P6LboXStxQmo",
        "colab_type": "code",
        "colab": {
          "base_uri": "https://localhost:8080/",
          "height": 138
        },
        "outputId": "a39f6d04-7ba7-413c-deff-20f5220960a6"
      },
      "source": [
        "%cd /content/'Spotify-Challenge'\n",
        "from data_preparation.intervals import extract_podcasts\n",
        "from data_preparation.intervals import create_intervals\n",
        "import preprocessing.basic as pre\n",
        "!pip install rank-bm25\n",
        "import traditional.bm25 as bm25\n"
      ],
      "execution_count": 53,
      "outputs": [
        {
          "output_type": "stream",
          "text": [
            "/content/Spotify-Challenge\n",
            "Collecting rank-bm25\n",
            "  Downloading https://files.pythonhosted.org/packages/16/5a/23ed3132063a0684ea66fb410260c71c4ffda3b99f8f1c021d1e245401b5/rank_bm25-0.2.1-py3-none-any.whl\n",
            "Requirement already satisfied: numpy in /usr/local/lib/python3.6/dist-packages (from rank-bm25) (1.18.5)\n",
            "Installing collected packages: rank-bm25\n",
            "Successfully installed rank-bm25-0.2.1\n"
          ],
          "name": "stdout"
        }
      ]
    },
    {
      "cell_type": "code",
      "metadata": {
        "id": "a1bLqVyGx8xy",
        "colab_type": "code",
        "colab": {
          "base_uri": "https://localhost:8080/",
          "height": 54
        },
        "outputId": "64385c41-9352-406d-a96e-111e00b43628"
      },
      "source": [
        "path = \"/content/drive/My Drive/Spotify\"\n",
        "podcasts = extract_podcasts(\"0\",\"0\",path)\n",
        "interval_0 = create_intervals(podcasts[0])\n",
        "interval_0[0]"
      ],
      "execution_count": 45,
      "outputs": [
        {
          "output_type": "execute_result",
          "data": {
            "text/plain": [
              "\"Welcome to Joe Girardi narrow a personal finance podcast for the modern Latina. This ain't your I will it has Financial advice. I'm your host Janae stories Rodriguez, and I'm here to help you tackle grown woman business when it comes to All Things. Dinero. We're going to talk about how to make it keep it and grow it on that note vamanos. Hi guys, welcome back to the yo quiero dinero podcast. I am so excited about today's episode because for the first time we are hosting a guest and not just any guests. This lady is a freaking rock star. Okay, she managed to pay off $35,000 in debt in a year and we're going to talk so much more about her story, but let me give you a brief introduction before we get started for the last six years. Christie Quevedo has been a senior accountant. Global electronic company despite being a full-time accountant financial literacy and personal finance was not a subject that she was educated in or that she was privy to this led her to educate herself and personal finances and pay off thirty five thousand dollars in one year post debt Freedom Chrissy founded Casey money management a coaching business dedicated to helping others fine-tune their budgets get out of debt and build real wealth. She hopes to inform and inspire Has to break the cycle of debt and live a financially healthy life. So as you can hear and as you will hear with our conversation Christy is killing the game and she is taking her financial destiny into her own hands. So without further Ado, let's have our conversation with Christie Christie. Thank you so much for being here. I'm really excited to talk to you because I feel like a lot of times when people hear about, you know, people who've like accomplished amazing things. It's because they're like famous or there. Liberties or something and you're just like a regular person who has accomplished something amazing. So let's get right into it. Okay. Thank you for having me. Of course. So for as far as your relationship with money, what was that like growing up? Yeah, so growing up. I mean, I grew up in a typical Latino households. Right? So like I had a single mother and money wasn't \""
            ]
          },
          "metadata": {
            "tags": []
          },
          "execution_count": 45
        }
      ]
    },
    {
      "cell_type": "code",
      "metadata": {
        "id": "LhQyC2ZG2viX",
        "colab_type": "code",
        "colab": {
          "base_uri": "https://localhost:8080/",
          "height": 54
        },
        "outputId": "33f12463-676a-49db-a2c0-caf1eb736ce6"
      },
      "source": [
        "preprocessed_0 = [pre.remove_stop_words(pre.lemmatization(pre.to_lower(doc))) for doc in interval_0]\n",
        "preprocessed_0[0]"
      ],
      "execution_count": 49,
      "outputs": [
        {
          "output_type": "execute_result",
          "data": {
            "text/plain": [
              "'welcome joe girardi narrow personal finance podcast modern latina . -PRON- -PRON- financial advice . -PRON- -PRON- host janae story rodriguez , -PRON- help -PRON- tackle grown woman business -PRON- come thing . dinero . -PRON- talk -PRON- -PRON- grow -PRON- note vamanos . hi guy , welcome yo quiero dinero podcast . excited today episode time -PRON- host guest guest . lady freak rock star . okay , -PRON- manage pay $ 35,000 debt year -PRON- talk -PRON- story , let -PRON- -PRON- brief introduction -PRON- start year . christie quevedo senior accountant . global electronic company despite - time accountant financial literacy personal finance subject -PRON- educate -PRON- privy lead -PRON- educate -PRON- personal finance pay thirty thousand dollar year post debt freedom chrissy found casey money management coach business dedicate help fine - tune -PRON- budget debt build real wealth . -PRON- hope inform inspire break cycle debt live financially healthy life . -PRON- hear -PRON- hear -PRON- conversation christy kill game -PRON- -PRON- financial destiny -PRON- hand . ado , let -PRON- -PRON- conversation christie christie . thank -PRON- . -PRON- excited talk -PRON- feel like lot time people hear , -PRON- know , people like accomplish amazing thing . -PRON- -PRON- like famous . liberty -PRON- like regular person accomplish amazing . let -PRON- right -PRON- . okay . thank -PRON- -PRON- . course . far -PRON- relationship money , like grow ? yeah , grow . mean , grow typical latino household . right ? like single mother money'"
            ]
          },
          "metadata": {
            "tags": []
          },
          "execution_count": 49
        }
      ]
    },
    {
      "cell_type": "code",
      "metadata": {
        "id": "CBOa9tUE-PAr",
        "colab_type": "code",
        "colab": {
          "base_uri": "https://localhost:8080/",
          "height": 34
        },
        "outputId": "1fe1fdd7-0fce-4af6-f703-0fbaa5ece53b"
      },
      "source": [
        "bm25.compute_bm25_scores(preprocessed_0[0],\"build real wealth\")"
      ],
      "execution_count": 54,
      "outputs": [
        {
          "output_type": "execute_result",
          "data": {
            "text/plain": [
              "(array([0., 0., 0., ..., 0., 0., 0.]), ['y', 'k', '-'])"
            ]
          },
          "metadata": {
            "tags": []
          },
          "execution_count": 54
        }
      ]
    },
    {
      "cell_type": "code",
      "metadata": {
        "id": "OJXGpNkX-51Q",
        "colab_type": "code",
        "colab": {}
      },
      "source": [
        ""
      ],
      "execution_count": null,
      "outputs": []
    }
  ]
}